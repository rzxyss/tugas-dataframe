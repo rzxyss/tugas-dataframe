{
 "cells": [
  {
   "cell_type": "code",
   "execution_count": 109,
   "metadata": {},
   "outputs": [],
   "source": [
    "import pandas as pd\n",
    "\n",
    "data_sampah = pd.read_csv('data_sampah.csv')\n",
    "data = data_sampah[['nama_kabupaten_kota', 'jumlah_produksi_sampah', 'tahun']]\n",
    "data = data.rename(columns={\n",
    "    'nama_kabupaten_kota': 'Kabupaten/Kota',\n",
    "    'jumlah_produksi_sampah': 'Produksi Sampah (Ton)',\n",
    "    'tahun': 'Tahun'\n",
    "})\n",
    "data.to_csv('nomor1.csv', index=False)\n",
    "data.to_excel('nomor1.xlsx', index=False)"
   ]
  },
  {
   "cell_type": "code",
   "execution_count": 110,
   "metadata": {},
   "outputs": [],
   "source": [
    "tahun_tertentu = 2015\n",
    "jumlah_sampah = 0\n",
    "\n",
    "for i, j in data.iterrows():\n",
    "    if j[\"Tahun\"] == tahun_tertentu:\n",
    "        jumlah_sampah += j[\"Produksi Sampah (Ton)\"]\n",
    "\n",
    "df_nomor2 = pd.DataFrame({'Tahun' : [tahun_tertentu], 'Total Produksi Sampah (Ton)' : [jumlah_sampah] })\n",
    "df_nomor2.to_csv('nomor2.csv', index=False)\n",
    "df_nomor2.to_excel('nomor2.xlsx', index=False)"
   ]
  },
  {
   "cell_type": "code",
   "execution_count": 111,
   "metadata": {},
   "outputs": [
    {
     "name": "stdout",
     "output_type": "stream",
     "text": [
      "{2015: 27, 2016: 27, 2017: 27, 2018: 27, 2019: 27, 2020: 27, 2021: 27, 2022: 27, 2023: 27}\n"
     ]
    }
   ],
   "source": [
    "jumlah_data_pertahun = {}\n",
    "for i, j in data.iterrows():\n",
    "    tahun = j['Tahun']\n",
    "\n",
    "    if tahun not in jumlah_data_pertahun:\n",
    "        jumlah_data_pertahun[tahun] = 0\n",
    "\n",
    "    jumlah_data_pertahun[tahun] += 1\n",
    "\n",
    "print(jumlah_data_pertahun)\n",
    "df_nomor3 = pd.DataFrame.from_dict(jumlah_data_pertahun, orient='index', columns=['Jumlah Data'])\n",
    "df_nomor3.to_csv('nomor3.csv', index_label='Tahun')\n",
    "df_nomor3.to_excel('nomor3.xlsx', index_label='Tahun')"
   ]
  },
  {
   "cell_type": "code",
   "execution_count": 112,
   "metadata": {},
   "outputs": [
    {
     "name": "stdout",
     "output_type": "stream",
     "text": [
      "{('KABUPATEN BOGOR', 2015): 1, ('KABUPATEN SUKABUMI', 2015): 1, ('KABUPATEN CIANJUR', 2015): 1, ('KABUPATEN BANDUNG', 2015): 1, ('KABUPATEN GARUT', 2015): 1, ('KABUPATEN TASIKMALAYA', 2015): 1, ('KABUPATEN CIAMIS', 2015): 1, ('KABUPATEN KUNINGAN', 2015): 1, ('KABUPATEN CIREBON', 2015): 1, ('KABUPATEN MAJALENGKA', 2015): 1, ('KABUPATEN SUMEDANG', 2015): 1, ('KABUPATEN INDRAMAYU', 2015): 1, ('KABUPATEN SUBANG', 2015): 1, ('KABUPATEN PURWAKARTA', 2015): 1, ('KABUPATEN KARAWANG', 2015): 1, ('KABUPATEN BEKASI', 2015): 1, ('KABUPATEN BANDUNG BARAT', 2015): 1, ('KABUPATEN PANGANDARAN', 2015): 1, ('KOTA BOGOR', 2015): 1, ('KOTA SUKABUMI', 2015): 1, ('KOTA BANDUNG', 2015): 1, ('KOTA CIREBON', 2015): 1, ('KOTA BEKASI', 2015): 1, ('KOTA DEPOK', 2015): 1, ('KOTA CIMAHI', 2015): 1, ('KOTA TASIKMALAYA', 2015): 1, ('KOTA BANJAR', 2015): 1, ('KABUPATEN BOGOR', 2016): 1, ('KABUPATEN SUKABUMI', 2016): 1, ('KABUPATEN CIANJUR', 2016): 1, ('KABUPATEN BANDUNG', 2016): 1, ('KABUPATEN GARUT', 2016): 1, ('KABUPATEN TASIKMALAYA', 2016): 1, ('KABUPATEN CIAMIS', 2016): 1, ('KABUPATEN KUNINGAN', 2016): 1, ('KABUPATEN CIREBON', 2016): 1, ('KABUPATEN MAJALENGKA', 2016): 1, ('KABUPATEN SUMEDANG', 2016): 1, ('KABUPATEN INDRAMAYU', 2016): 1, ('KABUPATEN SUBANG', 2016): 1, ('KABUPATEN PURWAKARTA', 2016): 1, ('KABUPATEN KARAWANG', 2016): 1, ('KABUPATEN BEKASI', 2016): 1, ('KABUPATEN BANDUNG BARAT', 2016): 1, ('KABUPATEN PANGANDARAN', 2016): 1, ('KOTA BOGOR', 2016): 1, ('KOTA SUKABUMI', 2016): 1, ('KOTA BANDUNG', 2016): 1, ('KOTA CIREBON', 2016): 1, ('KOTA BEKASI', 2016): 1, ('KOTA DEPOK', 2016): 1, ('KOTA CIMAHI', 2016): 1, ('KOTA TASIKMALAYA', 2016): 1, ('KOTA BANJAR', 2016): 1, ('KABUPATEN BOGOR', 2017): 1, ('KABUPATEN SUKABUMI', 2017): 1, ('KABUPATEN CIANJUR', 2017): 1, ('KABUPATEN BANDUNG', 2017): 1, ('KABUPATEN GARUT', 2017): 1, ('KABUPATEN TASIKMALAYA', 2017): 1, ('KABUPATEN CIAMIS', 2017): 1, ('KABUPATEN KUNINGAN', 2017): 1, ('KABUPATEN CIREBON', 2017): 1, ('KABUPATEN MAJALENGKA', 2017): 1, ('KABUPATEN SUMEDANG', 2017): 1, ('KABUPATEN INDRAMAYU', 2017): 1, ('KABUPATEN SUBANG', 2017): 1, ('KABUPATEN PURWAKARTA', 2017): 1, ('KABUPATEN KARAWANG', 2017): 1, ('KABUPATEN BEKASI', 2017): 1, ('KABUPATEN BANDUNG BARAT', 2017): 1, ('KABUPATEN PANGANDARAN', 2017): 1, ('KOTA BOGOR', 2017): 1, ('KOTA SUKABUMI', 2017): 1, ('KOTA BANDUNG', 2017): 1, ('KOTA CIREBON', 2017): 1, ('KOTA BEKASI', 2017): 1, ('KOTA DEPOK', 2017): 1, ('KOTA CIMAHI', 2017): 1, ('KOTA TASIKMALAYA', 2017): 1, ('KOTA BANJAR', 2017): 1, ('KABUPATEN BOGOR', 2018): 1, ('KABUPATEN SUKABUMI', 2018): 1, ('KABUPATEN CIANJUR', 2018): 1, ('KABUPATEN BANDUNG', 2018): 1, ('KABUPATEN GARUT', 2018): 1, ('KABUPATEN TASIKMALAYA', 2018): 1, ('KABUPATEN CIAMIS', 2018): 1, ('KABUPATEN KUNINGAN', 2018): 1, ('KABUPATEN CIREBON', 2018): 1, ('KABUPATEN MAJALENGKA', 2018): 1, ('KABUPATEN SUMEDANG', 2018): 1, ('KABUPATEN INDRAMAYU', 2018): 1, ('KABUPATEN SUBANG', 2018): 1, ('KABUPATEN PURWAKARTA', 2018): 1, ('KABUPATEN KARAWANG', 2018): 1, ('KABUPATEN BEKASI', 2018): 1, ('KABUPATEN BANDUNG BARAT', 2018): 1, ('KABUPATEN PANGANDARAN', 2018): 1, ('KOTA BOGOR', 2018): 1, ('KOTA SUKABUMI', 2018): 1, ('KOTA BANDUNG', 2018): 1, ('KOTA CIREBON', 2018): 1, ('KOTA BEKASI', 2018): 1, ('KOTA DEPOK', 2018): 1, ('KOTA CIMAHI', 2018): 1, ('KOTA TASIKMALAYA', 2018): 1, ('KOTA BANJAR', 2018): 1, ('KABUPATEN BOGOR', 2019): 1, ('KABUPATEN SUKABUMI', 2019): 1, ('KABUPATEN CIANJUR', 2019): 1, ('KABUPATEN BANDUNG', 2019): 1, ('KABUPATEN GARUT', 2019): 1, ('KABUPATEN TASIKMALAYA', 2019): 1, ('KABUPATEN CIAMIS', 2019): 1, ('KABUPATEN KUNINGAN', 2019): 1, ('KABUPATEN CIREBON', 2019): 1, ('KABUPATEN MAJALENGKA', 2019): 1, ('KABUPATEN SUMEDANG', 2019): 1, ('KABUPATEN INDRAMAYU', 2019): 1, ('KABUPATEN SUBANG', 2019): 1, ('KABUPATEN PURWAKARTA', 2019): 1, ('KABUPATEN KARAWANG', 2019): 1, ('KABUPATEN BEKASI', 2019): 1, ('KABUPATEN BANDUNG BARAT', 2019): 1, ('KABUPATEN PANGANDARAN', 2019): 1, ('KOTA BOGOR', 2019): 1, ('KOTA SUKABUMI', 2019): 1, ('KOTA BANDUNG', 2019): 1, ('KOTA CIREBON', 2019): 1, ('KOTA BEKASI', 2019): 1, ('KOTA DEPOK', 2019): 1, ('KOTA CIMAHI', 2019): 1, ('KOTA TASIKMALAYA', 2019): 1, ('KOTA BANJAR', 2019): 1, ('KABUPATEN BOGOR', 2020): 1, ('KABUPATEN SUKABUMI', 2020): 1, ('KABUPATEN CIANJUR', 2020): 1, ('KABUPATEN BANDUNG', 2020): 1, ('KABUPATEN GARUT', 2020): 1, ('KABUPATEN TASIKMALAYA', 2020): 1, ('KABUPATEN CIAMIS', 2020): 1, ('KABUPATEN KUNINGAN', 2020): 1, ('KABUPATEN CIREBON', 2020): 1, ('KABUPATEN MAJALENGKA', 2020): 1, ('KABUPATEN SUMEDANG', 2020): 1, ('KABUPATEN INDRAMAYU', 2020): 1, ('KABUPATEN SUBANG', 2020): 1, ('KABUPATEN PURWAKARTA', 2020): 1, ('KABUPATEN KARAWANG', 2020): 1, ('KABUPATEN BEKASI', 2020): 1, ('KABUPATEN BANDUNG BARAT', 2020): 1, ('KABUPATEN PANGANDARAN', 2020): 1, ('KOTA BOGOR', 2020): 1, ('KOTA SUKABUMI', 2020): 1, ('KOTA BANDUNG', 2020): 1, ('KOTA CIREBON', 2020): 1, ('KOTA BEKASI', 2020): 1, ('KOTA DEPOK', 2020): 1, ('KOTA CIMAHI', 2020): 1, ('KOTA TASIKMALAYA', 2020): 1, ('KOTA BANJAR', 2020): 1, ('KABUPATEN BOGOR', 2021): 1, ('KABUPATEN SUKABUMI', 2021): 1, ('KABUPATEN CIANJUR', 2021): 1, ('KABUPATEN BANDUNG', 2021): 1, ('KABUPATEN GARUT', 2021): 1, ('KABUPATEN TASIKMALAYA', 2021): 1, ('KABUPATEN CIAMIS', 2021): 1, ('KABUPATEN KUNINGAN', 2021): 1, ('KABUPATEN CIREBON', 2021): 1, ('KABUPATEN MAJALENGKA', 2021): 1, ('KABUPATEN SUMEDANG', 2021): 1, ('KABUPATEN INDRAMAYU', 2021): 1, ('KABUPATEN SUBANG', 2021): 1, ('KABUPATEN PURWAKARTA', 2021): 1, ('KABUPATEN KARAWANG', 2021): 1, ('KABUPATEN BEKASI', 2021): 1, ('KABUPATEN BANDUNG BARAT', 2021): 1, ('KABUPATEN PANGANDARAN', 2021): 1, ('KOTA BOGOR', 2021): 1, ('KOTA SUKABUMI', 2021): 1, ('KOTA BANDUNG', 2021): 1, ('KOTA CIREBON', 2021): 1, ('KOTA BEKASI', 2021): 1, ('KOTA DEPOK', 2021): 1, ('KOTA CIMAHI', 2021): 1, ('KOTA TASIKMALAYA', 2021): 1, ('KOTA BANJAR', 2021): 1, ('KABUPATEN BOGOR', 2022): 1, ('KABUPATEN SUKABUMI', 2022): 1, ('KABUPATEN CIANJUR', 2022): 1, ('KABUPATEN BANDUNG', 2022): 1, ('KABUPATEN GARUT', 2022): 1, ('KABUPATEN TASIKMALAYA', 2022): 1, ('KABUPATEN CIAMIS', 2022): 1, ('KABUPATEN KUNINGAN', 2022): 1, ('KABUPATEN CIREBON', 2022): 1, ('KABUPATEN MAJALENGKA', 2022): 1, ('KABUPATEN SUMEDANG', 2022): 1, ('KABUPATEN INDRAMAYU', 2022): 1, ('KABUPATEN SUBANG', 2022): 1, ('KABUPATEN PURWAKARTA', 2022): 1, ('KABUPATEN KARAWANG', 2022): 1, ('KABUPATEN BEKASI', 2022): 1, ('KABUPATEN BANDUNG BARAT', 2022): 1, ('KABUPATEN PANGANDARAN', 2022): 1, ('KOTA BOGOR', 2022): 1, ('KOTA SUKABUMI', 2022): 1, ('KOTA BANDUNG', 2022): 1, ('KOTA CIREBON', 2022): 1, ('KOTA BEKASI', 2022): 1, ('KOTA DEPOK', 2022): 1, ('KOTA CIMAHI', 2022): 1, ('KOTA TASIKMALAYA', 2022): 1, ('KOTA BANJAR', 2022): 1, ('KABUPATEN BOGOR', 2023): 1, ('KABUPATEN SUKABUMI', 2023): 1, ('KABUPATEN CIANJUR', 2023): 1, ('KABUPATEN BANDUNG', 2023): 1, ('KABUPATEN GARUT', 2023): 1, ('KABUPATEN TASIKMALAYA', 2023): 1, ('KABUPATEN CIAMIS', 2023): 1, ('KABUPATEN KUNINGAN', 2023): 1, ('KABUPATEN CIREBON', 2023): 1, ('KABUPATEN MAJALENGKA', 2023): 1, ('KABUPATEN SUMEDANG', 2023): 1, ('KABUPATEN INDRAMAYU', 2023): 1, ('KABUPATEN SUBANG', 2023): 1, ('KABUPATEN PURWAKARTA', 2023): 1, ('KABUPATEN KARAWANG', 2023): 1, ('KABUPATEN BEKASI', 2023): 1, ('KABUPATEN BANDUNG BARAT', 2023): 1, ('KABUPATEN PANGANDARAN', 2023): 1, ('KOTA BOGOR', 2023): 1, ('KOTA SUKABUMI', 2023): 1, ('KOTA BANDUNG', 2023): 1, ('KOTA CIREBON', 2023): 1, ('KOTA BEKASI', 2023): 1, ('KOTA DEPOK', 2023): 1, ('KOTA CIMAHI', 2023): 1, ('KOTA TASIKMALAYA', 2023): 1, ('KOTA BANJAR', 2023): 1}\n"
     ]
    }
   ],
   "source": [
    "jumlah_data_pp = {}\n",
    "for i, j in data.iterrows():\n",
    "    kab_kota = j['Kabupaten/Kota']\n",
    "    tahun = j['Tahun']\n",
    "\n",
    "    if (kab_kota,tahun) not in jumlah_data_pp:\n",
    "        jumlah_data_pp[(kab_kota,tahun)] = 0\n",
    "\n",
    "    jumlah_data_pp[(kab_kota,tahun)] += 1\n",
    "    \n",
    "print(jumlah_data_pp)\n",
    "df_nomor4 = pd.DataFrame.from_dict(jumlah_data_pp, orient='index', columns=['Jumlah Data'])\n",
    "df_nomor4.to_csv('nomor4.csv', index_label='Kabupaten/Kota, Tahun')\n",
    "df_nomor4.to_excel('nomor4.xlsx', index_label='Kabupaten/Kota, Tahun')"
   ]
  }
 ],
 "metadata": {
  "kernelspec": {
   "display_name": "Python 3",
   "language": "python",
   "name": "python3"
  },
  "language_info": {
   "codemirror_mode": {
    "name": "ipython",
    "version": 3
   },
   "file_extension": ".py",
   "mimetype": "text/x-python",
   "name": "python",
   "nbconvert_exporter": "python",
   "pygments_lexer": "ipython3",
   "version": "3.12.5"
  }
 },
 "nbformat": 4,
 "nbformat_minor": 2
}
